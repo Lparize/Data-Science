{
  "nbformat": 4,
  "nbformat_minor": 0,
  "metadata": {
    "colab": {
      "provenance": [],
      "include_colab_link": true
    },
    "kernelspec": {
      "name": "python3",
      "display_name": "Python 3"
    }
  },
  "cells": [
    {
      "cell_type": "markdown",
      "metadata": {
        "id": "view-in-github",
        "colab_type": "text"
      },
      "source": [
        "<a href=\"https://colab.research.google.com/github/Lparize/Data-Science/blob/main/An%C3%A1lise_de_Dados_Airbnb_New_Brunswick.ipynb\" target=\"_parent\"><img src=\"https://colab.research.google.com/assets/colab-badge.svg\" alt=\"Open In Colab\"/></a>"
      ]
    },
    {
      "cell_type": "markdown",
      "metadata": {
        "id": "kLI0gJtzDGuQ"
      },
      "source": [
        "<img alt=\"Colaboratory logo\" width=\"15%\" src=\"https://raw.githubusercontent.com/carlosfab/escola-data-science/master/img/novo_logo_bg_claro.png\">\n",
        "\n",
        "#### **Data Science na Prática 3.0**\n",
        "*by [sigmoidal.ai](https://sigmoidal.ai)*\n",
        "\n",
        "---\n",
        "\n",
        "# Análise dos Dados do Airbnb - *Sua Cidade*\n",
        "\n",
        "O [Airbnb](https://www.airbnb.com.br/) já é considerado como sendo a **maior empresa hoteleira da atualidade**. Ah, o detalhe é que ele **não possui nenhum hotel**!\n",
        "\n",
        "Conectando pessoas que querem viajar (e se hospedar) com anfitriões que querem alugar seus imóveis de maneira prática, o Airbnb fornece uma plataforma inovadora para tornar essa hospedagem alternativa.\n",
        "\n",
        "No final de 2018, a Startup fundada 10 anos atrás, já havia **hospedado mais de 300 milhões** de pessoas ao redor de todo o mundo, desafiando as redes hoteleiras tradicionais.\n",
        "\n",
        "Uma das iniciativas do Airbnb é disponibilizar dados do site, para algumas das principais cidades do mundo. Por meio do portal [Inside Airbnb](http://insideairbnb.com/get-the-data.html), é possível baixar uma grande quantidade de dados para desenvolver projetos e soluções de *Data Science*.\n",
        "\n",
        "<center><img alt=\"Analisando Airbnb\" width=\"10%\" src=\"https://www.area360.com.au/wp-content/uploads/2017/09/airbnb-logo.jpg\"></center>\n",
        "\n",
        "**Neste *notebook*, iremos analisar os dados referentes à provincia de New  Brunswick no Canadá, e ver quais insights podem ser extraídos a partir de dados brutos.**"
      ]
    },
    {
      "cell_type": "markdown",
      "metadata": {
        "id": "0zxQHhIUDF_2"
      },
      "source": [
        "## Obtenção dos Dados\n"
      ]
    },
    {
      "cell_type": "code",
      "metadata": {
        "id": "Vhp2wMPgJ6zX"
      },
      "source": [
        "# importar os pacotes necessarios\n",
        "import pandas as pd\n",
        "import matplotlib.pyplot as plt\n",
        "import seaborn as sns\n",
        "\n",
        "%matplotlib inLine"
      ],
      "execution_count": null,
      "outputs": []
    },
    {
      "cell_type": "code",
      "metadata": {
        "id": "tUmoAT8DLQ5T"
      },
      "source": [
        "# importar o arquivo listings.csv para um DataFrame\n",
        "df = pd.read_csv(\"http://data.insideairbnb.com/canada/nb/new-brunswick/2022-12-29/visualisations/listings.csv\")"
      ],
      "execution_count": null,
      "outputs": []
    },
    {
      "cell_type": "markdown",
      "metadata": {
        "id": "qb5By2nIMS6m"
      },
      "source": [
        "## Análise dos Dados\n"
      ]
    },
    {
      "cell_type": "markdown",
      "metadata": {
        "id": "RYgvuebKNg8-"
      },
      "source": [
        "**Dicionário das variáveis**\n",
        "\n",
        "* id - número id gerado para identificar o imóvel\n",
        "* name - nome do imóvel anunciado\n",
        "* host_id - número de id do proprietário do imóvel\n",
        "* host_name - nome do proprietário\n",
        "* neighbourdhood_group - nome do grupo de bairro\n",
        "* neigbourhood - nome do bairro\n",
        "* latitude - coordenadads latitude do imóvel\n",
        "* longetide - coordenadas longitude do imóvel\n",
        "* room_type - tipo de de quarto que é oferecido\n",
        "* price - preço cobrado\n",
        "* minimum_nights - mínimo de noites exigido\n",
        "* number_of_reviews - número de reviews que o imóvel teve\n",
        "* last_review - data do último review\n",
        "* reviews_per_month - quantidade de reviews por mês\n",
        "* calculated_host_listing_count - quantidade de imóveis que o mesmo proprietário possui\n",
        "* availability_365 - número de dias disponível durante 365 dias\n",
        "\n",
        "Antes de iniciar qualquer análise, vamos verificar a cara do nosso *dataset*, analisando as 5 primeiras entradas."
      ]
    },
    {
      "cell_type": "code",
      "metadata": {
        "id": "2iS_dae7YQtO",
        "colab": {
          "base_uri": "https://localhost:8080/",
          "height": 444
        },
        "outputId": "150a9835-7895-4aaf-ec21-d1cd3a2a2692"
      },
      "source": [
        "# mostrar as 5 primeiras entradas, entender a base de dados\n",
        "\n",
        "df.head()"
      ],
      "execution_count": null,
      "outputs": [
        {
          "output_type": "execute_result",
          "data": {
            "text/plain": [
              "       id                                           name  host_id host_name  \\\n",
              "0   75065               Bay cottage on Passamaquoddy bay   397069       Bob   \n",
              "1  145013            Lobster Lane Cottage: private beach   642972  Jennifer   \n",
              "2  261800              Furnished Executive Close to City  1373498      Usha   \n",
              "3  872640             Acadian Isle Retreat - Heron Haven  2189998  Danielle   \n",
              "4  950843  Centrally located  3 bdrm  home , bkfst items  3032106     Gerry   \n",
              "\n",
              "  neighbourhood_group       neighbourhood  latitude  longitude  \\\n",
              "0           Charlotte       Saint Andrews  45.13241  -67.04725   \n",
              "1                Kent              Dundas  46.32857  -64.52445   \n",
              "2          Saint John  City of Saint John  45.27727  -66.06040   \n",
              "3          Gloucester           Shippagan  47.86785  -64.52187   \n",
              "4         Westmorland             Moncton  46.10555  -64.81432   \n",
              "\n",
              "         room_type  price  minimum_nights  number_of_reviews last_review  \\\n",
              "0  Entire home/apt    258               2                 40  2022-09-17   \n",
              "1  Entire home/apt    150               7                  8  2020-08-23   \n",
              "2  Entire home/apt    125               2                 59  2022-08-25   \n",
              "3  Entire home/apt    135               7                  3  2019-08-18   \n",
              "4  Entire home/apt    174               3                222  2022-11-27   \n",
              "\n",
              "   reviews_per_month  calculated_host_listings_count  availability_365  \\\n",
              "0               0.44                               1               210   \n",
              "1               0.08                               1               297   \n",
              "2               0.73                               2               363   \n",
              "3               0.03                               1               365   \n",
              "4               1.95                               2               298   \n",
              "\n",
              "   number_of_reviews_ltm  license  \n",
              "0                      9      NaN  \n",
              "1                      0      NaN  \n",
              "2                     11      NaN  \n",
              "3                      0      NaN  \n",
              "4                     19      NaN  "
            ],
            "text/html": [
              "\n",
              "  <div id=\"df-ad25ba60-c173-43c3-a9b4-9a29ad59c3ff\">\n",
              "    <div class=\"colab-df-container\">\n",
              "      <div>\n",
              "<style scoped>\n",
              "    .dataframe tbody tr th:only-of-type {\n",
              "        vertical-align: middle;\n",
              "    }\n",
              "\n",
              "    .dataframe tbody tr th {\n",
              "        vertical-align: top;\n",
              "    }\n",
              "\n",
              "    .dataframe thead th {\n",
              "        text-align: right;\n",
              "    }\n",
              "</style>\n",
              "<table border=\"1\" class=\"dataframe\">\n",
              "  <thead>\n",
              "    <tr style=\"text-align: right;\">\n",
              "      <th></th>\n",
              "      <th>id</th>\n",
              "      <th>name</th>\n",
              "      <th>host_id</th>\n",
              "      <th>host_name</th>\n",
              "      <th>neighbourhood_group</th>\n",
              "      <th>neighbourhood</th>\n",
              "      <th>latitude</th>\n",
              "      <th>longitude</th>\n",
              "      <th>room_type</th>\n",
              "      <th>price</th>\n",
              "      <th>minimum_nights</th>\n",
              "      <th>number_of_reviews</th>\n",
              "      <th>last_review</th>\n",
              "      <th>reviews_per_month</th>\n",
              "      <th>calculated_host_listings_count</th>\n",
              "      <th>availability_365</th>\n",
              "      <th>number_of_reviews_ltm</th>\n",
              "      <th>license</th>\n",
              "    </tr>\n",
              "  </thead>\n",
              "  <tbody>\n",
              "    <tr>\n",
              "      <th>0</th>\n",
              "      <td>75065</td>\n",
              "      <td>Bay cottage on Passamaquoddy bay</td>\n",
              "      <td>397069</td>\n",
              "      <td>Bob</td>\n",
              "      <td>Charlotte</td>\n",
              "      <td>Saint Andrews</td>\n",
              "      <td>45.13241</td>\n",
              "      <td>-67.04725</td>\n",
              "      <td>Entire home/apt</td>\n",
              "      <td>258</td>\n",
              "      <td>2</td>\n",
              "      <td>40</td>\n",
              "      <td>2022-09-17</td>\n",
              "      <td>0.44</td>\n",
              "      <td>1</td>\n",
              "      <td>210</td>\n",
              "      <td>9</td>\n",
              "      <td>NaN</td>\n",
              "    </tr>\n",
              "    <tr>\n",
              "      <th>1</th>\n",
              "      <td>145013</td>\n",
              "      <td>Lobster Lane Cottage: private beach</td>\n",
              "      <td>642972</td>\n",
              "      <td>Jennifer</td>\n",
              "      <td>Kent</td>\n",
              "      <td>Dundas</td>\n",
              "      <td>46.32857</td>\n",
              "      <td>-64.52445</td>\n",
              "      <td>Entire home/apt</td>\n",
              "      <td>150</td>\n",
              "      <td>7</td>\n",
              "      <td>8</td>\n",
              "      <td>2020-08-23</td>\n",
              "      <td>0.08</td>\n",
              "      <td>1</td>\n",
              "      <td>297</td>\n",
              "      <td>0</td>\n",
              "      <td>NaN</td>\n",
              "    </tr>\n",
              "    <tr>\n",
              "      <th>2</th>\n",
              "      <td>261800</td>\n",
              "      <td>Furnished Executive Close to City</td>\n",
              "      <td>1373498</td>\n",
              "      <td>Usha</td>\n",
              "      <td>Saint John</td>\n",
              "      <td>City of Saint John</td>\n",
              "      <td>45.27727</td>\n",
              "      <td>-66.06040</td>\n",
              "      <td>Entire home/apt</td>\n",
              "      <td>125</td>\n",
              "      <td>2</td>\n",
              "      <td>59</td>\n",
              "      <td>2022-08-25</td>\n",
              "      <td>0.73</td>\n",
              "      <td>2</td>\n",
              "      <td>363</td>\n",
              "      <td>11</td>\n",
              "      <td>NaN</td>\n",
              "    </tr>\n",
              "    <tr>\n",
              "      <th>3</th>\n",
              "      <td>872640</td>\n",
              "      <td>Acadian Isle Retreat - Heron Haven</td>\n",
              "      <td>2189998</td>\n",
              "      <td>Danielle</td>\n",
              "      <td>Gloucester</td>\n",
              "      <td>Shippagan</td>\n",
              "      <td>47.86785</td>\n",
              "      <td>-64.52187</td>\n",
              "      <td>Entire home/apt</td>\n",
              "      <td>135</td>\n",
              "      <td>7</td>\n",
              "      <td>3</td>\n",
              "      <td>2019-08-18</td>\n",
              "      <td>0.03</td>\n",
              "      <td>1</td>\n",
              "      <td>365</td>\n",
              "      <td>0</td>\n",
              "      <td>NaN</td>\n",
              "    </tr>\n",
              "    <tr>\n",
              "      <th>4</th>\n",
              "      <td>950843</td>\n",
              "      <td>Centrally located  3 bdrm  home , bkfst items</td>\n",
              "      <td>3032106</td>\n",
              "      <td>Gerry</td>\n",
              "      <td>Westmorland</td>\n",
              "      <td>Moncton</td>\n",
              "      <td>46.10555</td>\n",
              "      <td>-64.81432</td>\n",
              "      <td>Entire home/apt</td>\n",
              "      <td>174</td>\n",
              "      <td>3</td>\n",
              "      <td>222</td>\n",
              "      <td>2022-11-27</td>\n",
              "      <td>1.95</td>\n",
              "      <td>2</td>\n",
              "      <td>298</td>\n",
              "      <td>19</td>\n",
              "      <td>NaN</td>\n",
              "    </tr>\n",
              "  </tbody>\n",
              "</table>\n",
              "</div>\n",
              "      <button class=\"colab-df-convert\" onclick=\"convertToInteractive('df-ad25ba60-c173-43c3-a9b4-9a29ad59c3ff')\"\n",
              "              title=\"Convert this dataframe to an interactive table.\"\n",
              "              style=\"display:none;\">\n",
              "        \n",
              "  <svg xmlns=\"http://www.w3.org/2000/svg\" height=\"24px\"viewBox=\"0 0 24 24\"\n",
              "       width=\"24px\">\n",
              "    <path d=\"M0 0h24v24H0V0z\" fill=\"none\"/>\n",
              "    <path d=\"M18.56 5.44l.94 2.06.94-2.06 2.06-.94-2.06-.94-.94-2.06-.94 2.06-2.06.94zm-11 1L8.5 8.5l.94-2.06 2.06-.94-2.06-.94L8.5 2.5l-.94 2.06-2.06.94zm10 10l.94 2.06.94-2.06 2.06-.94-2.06-.94-.94-2.06-.94 2.06-2.06.94z\"/><path d=\"M17.41 7.96l-1.37-1.37c-.4-.4-.92-.59-1.43-.59-.52 0-1.04.2-1.43.59L10.3 9.45l-7.72 7.72c-.78.78-.78 2.05 0 2.83L4 21.41c.39.39.9.59 1.41.59.51 0 1.02-.2 1.41-.59l7.78-7.78 2.81-2.81c.8-.78.8-2.07 0-2.86zM5.41 20L4 18.59l7.72-7.72 1.47 1.35L5.41 20z\"/>\n",
              "  </svg>\n",
              "      </button>\n",
              "      \n",
              "  <style>\n",
              "    .colab-df-container {\n",
              "      display:flex;\n",
              "      flex-wrap:wrap;\n",
              "      gap: 12px;\n",
              "    }\n",
              "\n",
              "    .colab-df-convert {\n",
              "      background-color: #E8F0FE;\n",
              "      border: none;\n",
              "      border-radius: 50%;\n",
              "      cursor: pointer;\n",
              "      display: none;\n",
              "      fill: #1967D2;\n",
              "      height: 32px;\n",
              "      padding: 0 0 0 0;\n",
              "      width: 32px;\n",
              "    }\n",
              "\n",
              "    .colab-df-convert:hover {\n",
              "      background-color: #E2EBFA;\n",
              "      box-shadow: 0px 1px 2px rgba(60, 64, 67, 0.3), 0px 1px 3px 1px rgba(60, 64, 67, 0.15);\n",
              "      fill: #174EA6;\n",
              "    }\n",
              "\n",
              "    [theme=dark] .colab-df-convert {\n",
              "      background-color: #3B4455;\n",
              "      fill: #D2E3FC;\n",
              "    }\n",
              "\n",
              "    [theme=dark] .colab-df-convert:hover {\n",
              "      background-color: #434B5C;\n",
              "      box-shadow: 0px 1px 3px 1px rgba(0, 0, 0, 0.15);\n",
              "      filter: drop-shadow(0px 1px 2px rgba(0, 0, 0, 0.3));\n",
              "      fill: #FFFFFF;\n",
              "    }\n",
              "  </style>\n",
              "\n",
              "      <script>\n",
              "        const buttonEl =\n",
              "          document.querySelector('#df-ad25ba60-c173-43c3-a9b4-9a29ad59c3ff button.colab-df-convert');\n",
              "        buttonEl.style.display =\n",
              "          google.colab.kernel.accessAllowed ? 'block' : 'none';\n",
              "\n",
              "        async function convertToInteractive(key) {\n",
              "          const element = document.querySelector('#df-ad25ba60-c173-43c3-a9b4-9a29ad59c3ff');\n",
              "          const dataTable =\n",
              "            await google.colab.kernel.invokeFunction('convertToInteractive',\n",
              "                                                     [key], {});\n",
              "          if (!dataTable) return;\n",
              "\n",
              "          const docLinkHtml = 'Like what you see? Visit the ' +\n",
              "            '<a target=\"_blank\" href=https://colab.research.google.com/notebooks/data_table.ipynb>data table notebook</a>'\n",
              "            + ' to learn more about interactive tables.';\n",
              "          element.innerHTML = '';\n",
              "          dataTable['output_type'] = 'display_data';\n",
              "          await google.colab.output.renderOutput(dataTable, element);\n",
              "          const docLink = document.createElement('div');\n",
              "          docLink.innerHTML = docLinkHtml;\n",
              "          element.appendChild(docLink);\n",
              "        }\n",
              "      </script>\n",
              "    </div>\n",
              "  </div>\n",
              "  "
            ]
          },
          "metadata": {},
          "execution_count": 3
        }
      ]
    },
    {
      "cell_type": "markdown",
      "metadata": {
        "id": "6-B_qtEaYEd-"
      },
      "source": [
        "### **Q1. Quantos atributos (variáveis) e quantas entradas o nosso conjunto de dados possui? Quais os tipos das variáveis?**\n",
        "\n",
        "Identificar a quantidade de entradas da base de dados e ver os tipos de cada coluna.\n"
      ]
    },
    {
      "cell_type": "code",
      "metadata": {
        "id": "TFRK0tniLV-G",
        "colab": {
          "base_uri": "https://localhost:8080/",
          "height": 382
        },
        "outputId": "af086f7f-2792-4cc8-a549-748746a0f58a"
      },
      "source": [
        "# identificar o volume de dados do DataFrame\n",
        "print(\"Entrada:\\t{}\". format(df.shape[0]))\n",
        "print(\"Variáveis:\\t{}\". format(df.shape[1]))\n",
        "\n",
        "# verificar as 5 primeiras entradas do dataset\n",
        "display(df.dtypes)"
      ],
      "execution_count": null,
      "outputs": [
        {
          "output_type": "stream",
          "name": "stdout",
          "text": [
            "Entrada:\t3111\n",
            "Variáveis:\t18\n"
          ]
        },
        {
          "output_type": "display_data",
          "data": {
            "text/plain": [
              "id                                  int64\n",
              "name                               object\n",
              "host_id                             int64\n",
              "host_name                          object\n",
              "neighbourhood_group                object\n",
              "neighbourhood                      object\n",
              "latitude                          float64\n",
              "longitude                         float64\n",
              "room_type                          object\n",
              "price                               int64\n",
              "minimum_nights                      int64\n",
              "number_of_reviews                   int64\n",
              "last_review                        object\n",
              "reviews_per_month                 float64\n",
              "calculated_host_listings_count      int64\n",
              "availability_365                    int64\n",
              "number_of_reviews_ltm               int64\n",
              "license                           float64\n",
              "dtype: object"
            ]
          },
          "metadata": {}
        }
      ]
    },
    {
      "cell_type": "markdown",
      "metadata": {
        "id": "yz1urSUGW9iE"
      },
      "source": [
        "### **Q2. Qual a porcentagem de valores ausentes no *dataset*?**\n"
      ]
    },
    {
      "cell_type": "code",
      "metadata": {
        "id": "plk2FjbCXOqP",
        "colab": {
          "base_uri": "https://localhost:8080/"
        },
        "outputId": "8d772428-96a5-45e7-dea7-ef19fca531ae"
      },
      "source": [
        "# ordenar em ordem decrescente as variáveis por seus valores ausentes\n",
        "(df.isnull().sum() / df.shape[0]).sort_values(ascending=False)"
      ],
      "execution_count": null,
      "outputs": [
        {
          "output_type": "execute_result",
          "data": {
            "text/plain": [
              "license                           1.000000\n",
              "reviews_per_month                 0.119254\n",
              "last_review                       0.119254\n",
              "name                              0.000000\n",
              "number_of_reviews_ltm             0.000000\n",
              "availability_365                  0.000000\n",
              "calculated_host_listings_count    0.000000\n",
              "number_of_reviews                 0.000000\n",
              "minimum_nights                    0.000000\n",
              "id                                0.000000\n",
              "room_type                         0.000000\n",
              "longitude                         0.000000\n",
              "latitude                          0.000000\n",
              "neighbourhood                     0.000000\n",
              "neighbourhood_group               0.000000\n",
              "host_name                         0.000000\n",
              "host_id                           0.000000\n",
              "price                             0.000000\n",
              "dtype: float64"
            ]
          },
          "metadata": {},
          "execution_count": 5
        }
      ]
    },
    {
      "cell_type": "code",
      "source": [
        "#os valores nulos nas colunas license, reviews e last indetificados não serão significativos para a análise.\n",
        "df.isnull().sum() / df.shape[1]"
      ],
      "metadata": {
        "colab": {
          "base_uri": "https://localhost:8080/"
        },
        "id": "MorSim9PF-zN",
        "outputId": "bc904b8c-c85a-4787-ccd5-2382d680d5de"
      },
      "execution_count": null,
      "outputs": [
        {
          "output_type": "execute_result",
          "data": {
            "text/plain": [
              "id                                  0.000000\n",
              "name                                0.000000\n",
              "host_id                             0.000000\n",
              "host_name                           0.000000\n",
              "neighbourhood_group                 0.000000\n",
              "neighbourhood                       0.000000\n",
              "latitude                            0.000000\n",
              "longitude                           0.000000\n",
              "room_type                           0.000000\n",
              "price                               0.000000\n",
              "minimum_nights                      0.000000\n",
              "number_of_reviews                   0.000000\n",
              "last_review                        20.611111\n",
              "reviews_per_month                  20.611111\n",
              "calculated_host_listings_count      0.000000\n",
              "availability_365                    0.000000\n",
              "number_of_reviews_ltm               0.000000\n",
              "license                           172.833333\n",
              "dtype: float64"
            ]
          },
          "metadata": {},
          "execution_count": 6
        }
      ]
    },
    {
      "cell_type": "markdown",
      "metadata": {
        "id": "iHXvvHIxaoNc"
      },
      "source": [
        "### **Q3. Qual o tipo de distribuição das variáveis?** \n",
        "Filtros para as locações de até 600 dólares e até 10 dias de disponibilidade para locação."
      ]
    },
    {
      "cell_type": "code",
      "metadata": {
        "id": "q2wWSfeRbmBo",
        "colab": {
          "base_uri": "https://localhost:8080/",
          "height": 607
        },
        "outputId": "027eee7d-adbe-4028-a02b-375023be4d50"
      },
      "source": [
        "# plotar o histograma das variáveis numéricas\n",
        "# Foi excluido o gráfico License, pois estava sem valor.\n",
        "df_clean = df.copy()\n",
        "df_clean.drop(df_clean[df_clean.price > 600].index, axis=0, inplace=True)\n",
        "df_clean.drop(df_clean[df_clean.minimum_nights > 10].index, axis=0, inplace=True)\n",
        "\n",
        "df_clean.drop('license', axis=1, inplace=True)\n",
        "df_clean.hist(bins=15, figsize=(15,10));\n"
      ],
      "execution_count": null,
      "outputs": [
        {
          "output_type": "display_data",
          "data": {
            "text/plain": [
              "<Figure size 1080x720 with 12 Axes>"
            ],
            "image/png": "[encoded data removed]"
          },
          "metadata": {
            "needs_background": "light"
          }
        }
      ]
    },
    {
      "cell_type": "markdown",
      "metadata": {
        "id": "7x4aw1j5wNmn"
      },
      "source": [
        "### **Q4. Qual a média dos preços de aluguel?**"
      ]
    },
    {
      "cell_type": "code",
      "metadata": {
        "id": "ff-8gUahLk-C",
        "colab": {
          "base_uri": "https://localhost:8080/"
        },
        "outputId": "d238035b-c726-4a91-b2f6-3bb73060fbe9"
      },
      "source": [
        "# ver a média da coluna `price``\n",
        "media = df[\"price\"].mean()\n",
        "\n",
        "print(media)"
      ],
      "execution_count": null,
      "outputs": [
        {
          "output_type": "stream",
          "name": "stdout",
          "text": [
            "232.66345226615238\n"
          ]
        }
      ]
    },
    {
      "cell_type": "markdown",
      "source": [
        "A média dos preços por noite é de 232,66 dólares."
      ],
      "metadata": {
        "id": "Yg3wkpRoTvoA"
      }
    },
    {
      "cell_type": "markdown",
      "metadata": {
        "id": "IXn2oIo5qx-w"
      },
      "source": [
        "### **Q4. Qual a correlação existente entre as variáveis**"
      ]
    },
    {
      "cell_type": "code",
      "metadata": {
        "id": "x2ayzBajqxyd",
        "colab": {
          "base_uri": "https://localhost:8080/",
          "height": 238
        },
        "outputId": "77d0bc5d-b9c4-470f-cb1b-ffe04cd08a8d"
      },
      "source": [
        "# criar uma matriz de correlação\n",
        "corr = df_clean[['price', 'minimum_nights', 'number_of_reviews', 'reviews_per_month', \n",
        "                 'calculated_host_listings_count', 'availability_365']].corr()\n",
        "# mostrar a matriz de correlação\n",
        "display(corr)"
      ],
      "execution_count": null,
      "outputs": [
        {
          "output_type": "display_data",
          "data": {
            "text/plain": [
              "                                   price  minimum_nights  number_of_reviews  \\\n",
              "price                           1.000000        0.245166          -0.111181   \n",
              "minimum_nights                  0.245166        1.000000          -0.174728   \n",
              "number_of_reviews              -0.111181       -0.174728           1.000000   \n",
              "reviews_per_month              -0.121920       -0.299841           0.538234   \n",
              "calculated_host_listings_count -0.140920       -0.194444          -0.077263   \n",
              "availability_365                0.068372       -0.113139           0.006689   \n",
              "\n",
              "                                reviews_per_month  \\\n",
              "price                                   -0.121920   \n",
              "minimum_nights                          -0.299841   \n",
              "number_of_reviews                        0.538234   \n",
              "reviews_per_month                        1.000000   \n",
              "calculated_host_listings_count          -0.084464   \n",
              "availability_365                         0.112356   \n",
              "\n",
              "                                calculated_host_listings_count  \\\n",
              "price                                                -0.140920   \n",
              "minimum_nights                                       -0.194444   \n",
              "number_of_reviews                                    -0.077263   \n",
              "reviews_per_month                                    -0.084464   \n",
              "calculated_host_listings_count                        1.000000   \n",
              "availability_365                                     -0.095259   \n",
              "\n",
              "                                availability_365  \n",
              "price                                   0.068372  \n",
              "minimum_nights                         -0.113139  \n",
              "number_of_reviews                       0.006689  \n",
              "reviews_per_month                       0.112356  \n",
              "calculated_host_listings_count         -0.095259  \n",
              "availability_365                        1.000000  "
            ],
            "text/html": [
              "\n",
              "  <div id=\"df-d94509ca-5fe5-497c-b6c5-725dd0767b7c\">\n",
              "    <div class=\"colab-df-container\">\n",
              "      <div>\n",
              "<style scoped>\n",
              "    .dataframe tbody tr th:only-of-type {\n",
              "        vertical-align: middle;\n",
              "    }\n",
              "\n",
              "    .dataframe tbody tr th {\n",
              "        vertical-align: top;\n",
              "    }\n",
              "\n",
              "    .dataframe thead th {\n",
              "        text-align: right;\n",
              "    }\n",
              "</style>\n",
              "<table border=\"1\" class=\"dataframe\">\n",
              "  <thead>\n",
              "    <tr style=\"text-align: right;\">\n",
              "      <th></th>\n",
              "      <th>price</th>\n",
              "      <th>minimum_nights</th>\n",
              "      <th>number_of_reviews</th>\n",
              "      <th>reviews_per_month</th>\n",
              "      <th>calculated_host_listings_count</th>\n",
              "      <th>availability_365</th>\n",
              "    </tr>\n",
              "  </thead>\n",
              "  <tbody>\n",
              "    <tr>\n",
              "      <th>price</th>\n",
              "      <td>1.000000</td>\n",
              "      <td>0.245166</td>\n",
              "      <td>-0.111181</td>\n",
              "      <td>-0.121920</td>\n",
              "      <td>-0.140920</td>\n",
              "      <td>0.068372</td>\n",
              "    </tr>\n",
              "    <tr>\n",
              "      <th>minimum_nights</th>\n",
              "      <td>0.245166</td>\n",
              "      <td>1.000000</td>\n",
              "      <td>-0.174728</td>\n",
              "      <td>-0.299841</td>\n",
              "      <td>-0.194444</td>\n",
              "      <td>-0.113139</td>\n",
              "    </tr>\n",
              "    <tr>\n",
              "      <th>number_of_reviews</th>\n",
              "      <td>-0.111181</td>\n",
              "      <td>-0.174728</td>\n",
              "      <td>1.000000</td>\n",
              "      <td>0.538234</td>\n",
              "      <td>-0.077263</td>\n",
              "      <td>0.006689</td>\n",
              "    </tr>\n",
              "    <tr>\n",
              "      <th>reviews_per_month</th>\n",
              "      <td>-0.121920</td>\n",
              "      <td>-0.299841</td>\n",
              "      <td>0.538234</td>\n",
              "      <td>1.000000</td>\n",
              "      <td>-0.084464</td>\n",
              "      <td>0.112356</td>\n",
              "    </tr>\n",
              "    <tr>\n",
              "      <th>calculated_host_listings_count</th>\n",
              "      <td>-0.140920</td>\n",
              "      <td>-0.194444</td>\n",
              "      <td>-0.077263</td>\n",
              "      <td>-0.084464</td>\n",
              "      <td>1.000000</td>\n",
              "      <td>-0.095259</td>\n",
              "    </tr>\n",
              "    <tr>\n",
              "      <th>availability_365</th>\n",
              "      <td>0.068372</td>\n",
              "      <td>-0.113139</td>\n",
              "      <td>0.006689</td>\n",
              "      <td>0.112356</td>\n",
              "      <td>-0.095259</td>\n",
              "      <td>1.000000</td>\n",
              "    </tr>\n",
              "  </tbody>\n",
              "</table>\n",
              "</div>\n",
              "      <button class=\"colab-df-convert\" onclick=\"convertToInteractive('df-d94509ca-5fe5-497c-b6c5-725dd0767b7c')\"\n",
              "              title=\"Convert this dataframe to an interactive table.\"\n",
              "              style=\"display:none;\">\n",
              "        \n",
              "  <svg xmlns=\"http://www.w3.org/2000/svg\" height=\"24px\"viewBox=\"0 0 24 24\"\n",
              "       width=\"24px\">\n",
              "    <path d=\"M0 0h24v24H0V0z\" fill=\"none\"/>\n",
              "    <path d=\"M18.56 5.44l.94 2.06.94-2.06 2.06-.94-2.06-.94-.94-2.06-.94 2.06-2.06.94zm-11 1L8.5 8.5l.94-2.06 2.06-.94-2.06-.94L8.5 2.5l-.94 2.06-2.06.94zm10 10l.94 2.06.94-2.06 2.06-.94-2.06-.94-.94-2.06-.94 2.06-2.06.94z\"/><path d=\"M17.41 7.96l-1.37-1.37c-.4-.4-.92-.59-1.43-.59-.52 0-1.04.2-1.43.59L10.3 9.45l-7.72 7.72c-.78.78-.78 2.05 0 2.83L4 21.41c.39.39.9.59 1.41.59.51 0 1.02-.2 1.41-.59l7.78-7.78 2.81-2.81c.8-.78.8-2.07 0-2.86zM5.41 20L4 18.59l7.72-7.72 1.47 1.35L5.41 20z\"/>\n",
              "  </svg>\n",
              "      </button>\n",
              "      \n",
              "  <style>\n",
              "    .colab-df-container {\n",
              "      display:flex;\n",
              "      flex-wrap:wrap;\n",
              "      gap: 12px;\n",
              "    }\n",
              "\n",
              "    .colab-df-convert {\n",
              "      background-color: #E8F0FE;\n",
              "      border: none;\n",
              "      border-radius: 50%;\n",
              "      cursor: pointer;\n",
              "      display: none;\n",
              "      fill: #1967D2;\n",
              "      height: 32px;\n",
              "      padding: 0 0 0 0;\n",
              "      width: 32px;\n",
              "    }\n",
              "\n",
              "    .colab-df-convert:hover {\n",
              "      background-color: #E2EBFA;\n",
              "      box-shadow: 0px 1px 2px rgba(60, 64, 67, 0.3), 0px 1px 3px 1px rgba(60, 64, 67, 0.15);\n",
              "      fill: #174EA6;\n",
              "    }\n",
              "\n",
              "    [theme=dark] .colab-df-convert {\n",
              "      background-color: #3B4455;\n",
              "      fill: #D2E3FC;\n",
              "    }\n",
              "\n",
              "    [theme=dark] .colab-df-convert:hover {\n",
              "      background-color: #434B5C;\n",
              "      box-shadow: 0px 1px 3px 1px rgba(0, 0, 0, 0.15);\n",
              "      filter: drop-shadow(0px 1px 2px rgba(0, 0, 0, 0.3));\n",
              "      fill: #FFFFFF;\n",
              "    }\n",
              "  </style>\n",
              "\n",
              "      <script>\n",
              "        const buttonEl =\n",
              "          document.querySelector('#df-d94509ca-5fe5-497c-b6c5-725dd0767b7c button.colab-df-convert');\n",
              "        buttonEl.style.display =\n",
              "          google.colab.kernel.accessAllowed ? 'block' : 'none';\n",
              "\n",
              "        async function convertToInteractive(key) {\n",
              "          const element = document.querySelector('#df-d94509ca-5fe5-497c-b6c5-725dd0767b7c');\n",
              "          const dataTable =\n",
              "            await google.colab.kernel.invokeFunction('convertToInteractive',\n",
              "                                                     [key], {});\n",
              "          if (!dataTable) return;\n",
              "\n",
              "          const docLinkHtml = 'Like what you see? Visit the ' +\n",
              "            '<a target=\"_blank\" href=https://colab.research.google.com/notebooks/data_table.ipynb>data table notebook</a>'\n",
              "            + ' to learn more about interactive tables.';\n",
              "          element.innerHTML = '';\n",
              "          dataTable['output_type'] = 'display_data';\n",
              "          await google.colab.output.renderOutput(dataTable, element);\n",
              "          const docLink = document.createElement('div');\n",
              "          docLink.innerHTML = docLinkHtml;\n",
              "          element.appendChild(docLink);\n",
              "        }\n",
              "      </script>\n",
              "    </div>\n",
              "  </div>\n",
              "  "
            ]
          },
          "metadata": {}
        }
      ]
    },
    {
      "cell_type": "code",
      "metadata": {
        "id": "91UujDr6ueqE",
        "colab": {
          "base_uri": "https://localhost:8080/",
          "height": 411
        },
        "outputId": "db5b9269-8519-4490-de0a-6420581ea3a0"
      },
      "source": [
        "# plotar um heatmap a partir das correlações\n",
        "sns.heatmap(corr, cmap='RdBu', fmt='.2f', square=True, linecolor='white', annot=True);"
      ],
      "execution_count": null,
      "outputs": [
        {
          "output_type": "display_data",
          "data": {
            "text/plain": [
              "<Figure size 432x288 with 2 Axes>"
            ],
            "image/png": "[encoded data removed]"
          },
          "metadata": {
            "needs_background": "light"
          }
        }
      ]
    },
    {
      "cell_type": "markdown",
      "metadata": {
        "id": "7b6RMWpuHKN-"
      },
      "source": [
        "### **Q5. Qual o tipo de imóvel mais alugado no Airbnb?**\n",
        "A coluna Room_type indica o tipo de locação no Airbnb, podendo existir opções de apartamentos/ casas inteiras, quartos privativos e até quartos compartilhados.\n",
        "Vamos contar a quantidade de ocorrências de cada tipo de aluguel, usando o método value_counts()."
      ]
    },
    {
      "cell_type": "code",
      "metadata": {
        "id": "ueLPNWvPHgfB",
        "colab": {
          "base_uri": "https://localhost:8080/"
        },
        "outputId": "dcd61fb6-1c25-422e-de4f-14e538d91920"
      },
      "source": [
        "# mostrar a quantidade de cada tipo de imóvel disponível\n",
        "df_clean.room_type.value_counts()"
      ],
      "execution_count": null,
      "outputs": [
        {
          "output_type": "execute_result",
          "data": {
            "text/plain": [
              "Entire home/apt    2364\n",
              "Private room        655\n",
              "Shared room           6\n",
              "Hotel room            3\n",
              "Name: room_type, dtype: int64"
            ]
          },
          "metadata": {},
          "execution_count": 11
        }
      ]
    },
    {
      "cell_type": "code",
      "metadata": {
        "id": "EvwoO-XAHhIm",
        "colab": {
          "base_uri": "https://localhost:8080/"
        },
        "outputId": "d8c523a3-2fec-4e7a-f860-a26cddb82f98"
      },
      "source": [
        "# mostrar a porcentagem de cada tipo de imóvel disponível\n",
        "df_clean.room_type.value_counts() / df_clean.shape[0]"
      ],
      "execution_count": null,
      "outputs": [
        {
          "output_type": "execute_result",
          "data": {
            "text/plain": [
              "Entire home/apt    0.780713\n",
              "Private room       0.216314\n",
              "Shared room        0.001982\n",
              "Hotel room         0.000991\n",
              "Name: room_type, dtype: float64"
            ]
          },
          "metadata": {},
          "execution_count": 12
        }
      ]
    },
    {
      "cell_type": "markdown",
      "metadata": {
        "id": "MFa5NbnLJMcd"
      },
      "source": [
        "### **Q6. Qual a localidade mais cara do dataset?**\n",
        "\n"
      ]
    },
    {
      "cell_type": "code",
      "metadata": {
        "id": "MD_xa143JZpi",
        "colab": {
          "base_uri": "https://localhost:8080/"
        },
        "outputId": "d93f755e-1daf-4b7b-bc63-d2d9a530da05"
      },
      "source": [
        "# ver preços por bairros, na média\n",
        "df_clean.groupby(['neighbourhood']).price.mean().sort_values(ascending=False)[:15]"
      ],
      "execution_count": null,
      "outputs": [
        {
          "output_type": "execute_result",
          "data": {
            "text/plain": [
              "neighbourhood\n",
              "Dufferin         397.375000\n",
              "Hampstead        323.000000\n",
              "Balmoral         296.500000\n",
              "Hardwicke        273.000000\n",
              "Musquash         253.000000\n",
              "Kars             250.333333\n",
              "Campobello       240.666667\n",
              "Northesk         237.250000\n",
              "Saint Croix      231.250000\n",
              "Kingston         221.571429\n",
              "Saint David      219.823529\n",
              "Grand Falls      219.000000\n",
              "Weldford         217.111111\n",
              "Riviere-Verte    215.000000\n",
              "Blackville       211.894737\n",
              "Name: price, dtype: float64"
            ]
          },
          "metadata": {},
          "execution_count": 13
        }
      ]
    },
    {
      "cell_type": "markdown",
      "source": [
        "As maiores locações encontram-se na cidade de Dufferin (397) e Hampstead (323).\n"
      ],
      "metadata": {
        "id": "jO7G5irNRIPJ"
      }
    },
    {
      "cell_type": "code",
      "metadata": {
        "id": "UxVJqJ_3W59I",
        "colab": {
          "base_uri": "https://localhost:8080/",
          "height": 582
        },
        "outputId": "13939e3e-8eec-4790-937b-26285b82bba8"
      },
      "source": [
        "# plotar os imóveis pela latitude-longitude\n",
        "df_clean.plot(kind=\"scatter\", x='longitude', y='latitude', alpha=0.4, c=df_clean['price'], s=8, \n",
        "              cmap=plt.get_cmap('jet'), figsize=(15,10));"
      ],
      "execution_count": null,
      "outputs": [
        {
          "output_type": "display_data",
          "data": {
            "text/plain": [
              "<Figure size 1080x720 with 2 Axes>"
            ],
            "image/png": "[encoded data removed]"
          },
          "metadata": {
            "needs_background": "light"
          }
        }
      ]
    },
    {
      "cell_type": "markdown",
      "metadata": {
        "id": "vTneAMRUYvr1"
      },
      "source": [
        "### **Q7. Qual é a média do mínimo de noites para aluguel (minimum_nights)?**"
      ]
    },
    {
      "cell_type": "code",
      "metadata": {
        "id": "_VzNhrEgY82N",
        "colab": {
          "base_uri": "https://localhost:8080/"
        },
        "outputId": "6c585299-a332-46a1-aae2-d7b1dd68f1a9"
      },
      "source": [
        "# ver a média da coluna `minimum_nights``\n",
        "media_noite = df[\"minimum_nights\"].mean()\n",
        "\n",
        "print(media_noite)"
      ],
      "execution_count": null,
      "outputs": [
        {
          "output_type": "stream",
          "name": "stdout",
          "text": [
            "2.925104468016715\n"
          ]
        }
      ]
    },
    {
      "cell_type": "code",
      "source": [
        "# price\n",
        "df.price.plot(kind='box', vert=False, figsize=(15, 3),)\n",
        "plt.show()\n",
        "\n",
        "# ver quantidade de valores abaixo de 100 para price\n",
        "print(\"\\nprice: valores abaixo de 100 dólares\")\n",
        "print(\"{} entradas\".format(len(df[df.price < 100])))\n",
        "print(\"{:.4f}%\".format((len(df[df.price < 100]) / df.shape[0])*100))\n",
        "\n",
        "# df.price.plot(kind='box', vert=False, xlim=(0,500), figsize=(15,3));"
      ],
      "metadata": {
        "colab": {
          "base_uri": "https://localhost:8080/",
          "height": 280
        },
        "id": "29pPTui8XBjf",
        "outputId": "4563e04b-8df7-4cf4-f56c-439c356535d7"
      },
      "execution_count": null,
      "outputs": [
        {
          "output_type": "display_data",
          "data": {
            "text/plain": [
              "<Figure size 1080x216 with 1 Axes>"
            ],
            "image/png": "[encoded data removed]"
          },
          "metadata": {
            "needs_background": "light"
          }
        },
        {
          "output_type": "stream",
          "name": "stdout",
          "text": [
            "\n",
            "price: valores abaixo de 100 dólares\n",
            "845 entradas\n",
            "27.1617%\n"
          ]
        }
      ]
    },
    {
      "cell_type": "code",
      "source": [
        "# minimum_nights\n",
        "df.minimum_nights.plot(kind='box', vert=False, figsize=(15, 3))\n",
        "plt.show()\n",
        "\n",
        "# ver quantidade de valores abaixo de 10 dias para minimum_nights\n",
        "print(\"minimum_nights: valores acima de 10:\")\n",
        "print(\"{} entradas\".format(len(df[df.minimum_nights < 10])))\n",
        "print(\"{:.4f}%\".format((len(df[df.minimum_nights < 10]) / df.shape[0])*100))"
      ],
      "metadata": {
        "colab": {
          "base_uri": "https://localhost:8080/",
          "height": 263
        },
        "id": "bzTzIVHyXZRQ",
        "outputId": "1831011d-d0ef-4928-e471-b463faf84bfd"
      },
      "execution_count": null,
      "outputs": [
        {
          "output_type": "display_data",
          "data": {
            "text/plain": [
              "<Figure size 1080x216 with 1 Axes>"
            ],
            "image/png": "[encoded data removed]"
          },
          "metadata": {
            "needs_background": "light"
          }
        },
        {
          "output_type": "stream",
          "name": "stdout",
          "text": [
            "minimum_nights: valores acima de 10:\n",
            "3065 entradas\n",
            "98.5214%\n"
          ]
        }
      ]
    },
    {
      "cell_type": "code",
      "source": [
        "# Seleciona as linhas em que o valor da coluna \"price\" é menor ou igual a 100\n",
        "df_valores = df.loc[df['price'] <= 100]\n",
        "\n",
        "\n",
        "print(df_valores)"
      ],
      "metadata": {
        "colab": {
          "base_uri": "https://localhost:8080/"
        },
        "id": "ne9eZFp_bqJ-",
        "outputId": "e0b4302b-91db-40c9-8a38-60038044691f"
      },
      "execution_count": null,
      "outputs": [
        {
          "output_type": "stream",
          "name": "stdout",
          "text": [
            "                      id                                               name  \\\n",
            "10               1489389    Midpoint to  Moncton, Saint John or Fredericton   \n",
            "11               2148508                   Near Fundy - Country Guest House   \n",
            "19               3260745  Skyline Resort with Pool, Hot Tub & Tiki Hut! ...   \n",
            "28               3697522                         The Boathouse on Wegesegum   \n",
            "31               4549425        NO CLEANING FEES! Cozy 1 Bed. Basement Apt.   \n",
            "...                  ...                                                ...   \n",
            "3103  790660894102394342                                       1 Victoria 1   \n",
            "3104  790664172846087908                                       1 Victoria 2   \n",
            "3105  790666195871479304                                       1 Victoria 3   \n",
            "3106  790668338781801509                                       1 Victoria 4   \n",
            "3108  791175920707039679                   Contemporary 1BR APT near Casino   \n",
            "\n",
            "        host_id host_name neighbourhood_group       neighbourhood  latitude  \\\n",
            "10      7964165    Sharon               Kings         Springfield  45.64933   \n",
            "11      7964165    Sharon               Kings         Springfield  45.64943   \n",
            "19     16489649   Francis                York         Fredericton  45.93823   \n",
            "28     11880724    Junior              Queens             Chipman  46.15525   \n",
            "31     23587432      Paul         Westmorland             Moncton  46.06336   \n",
            "...         ...       ...                 ...                 ...       ...   \n",
            "3103  288088082      Rick          Saint John  City of Saint John  45.27732   \n",
            "3104  288088082      Rick          Saint John  City of Saint John  45.27697   \n",
            "3105  288088082      Rick          Saint John  City of Saint John  45.27697   \n",
            "3106  288088082      Rick          Saint John  City of Saint John  45.27776   \n",
            "3108  170864325    Roland         Westmorland             Moncton  46.11121   \n",
            "\n",
            "      longitude        room_type  price  minimum_nights  number_of_reviews  \\\n",
            "10   -65.859300     Private room     40               1                 73   \n",
            "11   -65.860040     Private room     40               1                166   \n",
            "19   -66.640440     Private room    100               1                 92   \n",
            "28   -65.897440  Entire home/apt     89               2                128   \n",
            "31   -64.710140  Entire home/apt     58               2                218   \n",
            "...         ...              ...    ...             ...                ...   \n",
            "3103 -66.083360     Private room     33               1                  0   \n",
            "3104 -66.082549     Private room     33               1                  0   \n",
            "3105 -66.082549     Private room     33               1                  0   \n",
            "3106 -66.082120     Private room     36               1                  0   \n",
            "3108 -64.867960  Entire home/apt     52               1                  0   \n",
            "\n",
            "     last_review  reviews_per_month  calculated_host_listings_count  \\\n",
            "10    2022-09-28               0.79                               3   \n",
            "11    2022-12-15               1.55                               3   \n",
            "19    2022-10-01               0.90                               2   \n",
            "28    2022-11-13               1.40                               1   \n",
            "31    2022-12-24               2.29                               2   \n",
            "...          ...                ...                             ...   \n",
            "3103         NaN                NaN                              21   \n",
            "3104         NaN                NaN                              21   \n",
            "3105         NaN                NaN                              21   \n",
            "3106         NaN                NaN                              21   \n",
            "3108         NaN                NaN                               1   \n",
            "\n",
            "      availability_365  number_of_reviews_ltm  license  \n",
            "10                 318                      6      NaN  \n",
            "11                 316                     29      NaN  \n",
            "19                 244                     15      NaN  \n",
            "28                 356                     13      NaN  \n",
            "31                 305                     34      NaN  \n",
            "...                ...                    ...      ...  \n",
            "3103               357                      0      NaN  \n",
            "3104               357                      0      NaN  \n",
            "3105               332                      0      NaN  \n",
            "3106               357                      0      NaN  \n",
            "3108               172                      0      NaN  \n",
            "\n",
            "[920 rows x 18 columns]\n"
          ]
        }
      ]
    },
    {
      "cell_type": "markdown",
      "metadata": {
        "id": "GkvAg623RjoR"
      },
      "source": [
        "## Conclusões\n",
        "\n",
        "A média dos preços de aluguel na província de New Brunswick é de 242 dólares  por noite e a média mínima de noites na região é de 2,92. Há 845 imóveis na região que estão disponíveis por menos de US$100 por noite, o que representa 27% dos imóveis para locação. Se você estiver planejando uma viagem exploratória na região, saiba que há 3065 imóveis que aceitam reservas por até 10 dias.\n"
      ]
    }
  ]
}